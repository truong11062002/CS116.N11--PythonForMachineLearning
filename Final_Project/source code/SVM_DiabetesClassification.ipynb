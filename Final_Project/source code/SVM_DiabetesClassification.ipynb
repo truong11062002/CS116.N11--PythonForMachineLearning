{
  "nbformat": 4,
  "nbformat_minor": 0,
  "metadata": {
    "colab": {
      "provenance": [],
      "toc_visible": true
    },
    "kernelspec": {
      "name": "python3",
      "display_name": "Python 3"
    },
    "language_info": {
      "name": "python"
    },
    "accelerator": "GPU",
    "gpuClass": "standard"
  },
  "cells": [
    {
      "cell_type": "code",
      "source": [
        "from google.colab import drive\n",
        "drive.mount('/content/drive')\n"
      ],
      "metadata": {
        "colab": {
          "base_uri": "https://localhost:8080/"
        },
        "id": "1gZQh5sqSrT5",
        "outputId": "63474d6b-1511-491f-e7f1-9cf0c05bc332"
      },
      "execution_count": 1,
      "outputs": [
        {
          "output_type": "stream",
          "name": "stdout",
          "text": [
            "Mounted at /content/drive\n"
          ]
        }
      ]
    },
    {
      "cell_type": "code",
      "source": [
        "%cd /content/drive/MyDrive/PythonForML/dataset"
      ],
      "metadata": {
        "colab": {
          "base_uri": "https://localhost:8080/"
        },
        "id": "VCSuvQocSwa_",
        "outputId": "b5d37d45-1173-4e09-9808-9861cb59f8e9"
      },
      "execution_count": 2,
      "outputs": [
        {
          "output_type": "stream",
          "name": "stdout",
          "text": [
            "/content/drive/MyDrive/PythonForML/dataset\n"
          ]
        }
      ]
    },
    {
      "cell_type": "markdown",
      "source": [
        "# Import some important libraries\n"
      ],
      "metadata": {
        "id": "gttUrtfpegfY"
      }
    },
    {
      "cell_type": "code",
      "execution_count": 3,
      "metadata": {
        "id": "-R4Zt7uTdkKf"
      },
      "outputs": [],
      "source": [
        "import numpy as np\n",
        "from sklearn.neighbors import KNeighborsClassifier\n",
        "from sklearn.svm import SVC\n",
        "from sklearn.preprocessing import StandardScaler\n",
        "from sklearn.model_selection import train_test_split, KFold\n",
        "import pandas as pd\n",
        "from sklearn.metrics import f1_score, accuracy_score, log_loss"
      ]
    },
    {
      "cell_type": "markdown",
      "source": [
        "# Dataset Detail"
      ],
      "metadata": {
        "id": "fv_ebvSpeq27"
      }
    },
    {
      "cell_type": "code",
      "source": [
        "df = pd.read_csv(\"diabetes.csv\")\n",
        "df"
      ],
      "metadata": {
        "colab": {
          "base_uri": "https://localhost:8080/",
          "height": 424
        },
        "id": "ZlbbbArJf1fP",
        "outputId": "3a6fbf6b-1971-40bc-daba-3719f590ff61"
      },
      "execution_count": 4,
      "outputs": [
        {
          "output_type": "execute_result",
          "data": {
            "text/plain": [
              "     Pregnancies  Glucose  BloodPressure  SkinThickness  Insulin   BMI  \\\n",
              "0              6      148             72             35        0  33.6   \n",
              "1              1       85             66             29        0  26.6   \n",
              "2              8      183             64              0        0  23.3   \n",
              "3              1       89             66             23       94  28.1   \n",
              "4              0      137             40             35      168  43.1   \n",
              "..           ...      ...            ...            ...      ...   ...   \n",
              "763           10      101             76             48      180  32.9   \n",
              "764            2      122             70             27        0  36.8   \n",
              "765            5      121             72             23      112  26.2   \n",
              "766            1      126             60              0        0  30.1   \n",
              "767            1       93             70             31        0  30.4   \n",
              "\n",
              "     DiabetesPedigreeFunction  Age  Outcome  \n",
              "0                       0.627   50        1  \n",
              "1                       0.351   31        0  \n",
              "2                       0.672   32        1  \n",
              "3                       0.167   21        0  \n",
              "4                       2.288   33        1  \n",
              "..                        ...  ...      ...  \n",
              "763                     0.171   63        0  \n",
              "764                     0.340   27        0  \n",
              "765                     0.245   30        0  \n",
              "766                     0.349   47        1  \n",
              "767                     0.315   23        0  \n",
              "\n",
              "[768 rows x 9 columns]"
            ],
            "text/html": [
              "\n",
              "  <div id=\"df-a72d4b9c-c5e9-416a-b74f-aa366fad28cc\">\n",
              "    <div class=\"colab-df-container\">\n",
              "      <div>\n",
              "<style scoped>\n",
              "    .dataframe tbody tr th:only-of-type {\n",
              "        vertical-align: middle;\n",
              "    }\n",
              "\n",
              "    .dataframe tbody tr th {\n",
              "        vertical-align: top;\n",
              "    }\n",
              "\n",
              "    .dataframe thead th {\n",
              "        text-align: right;\n",
              "    }\n",
              "</style>\n",
              "<table border=\"1\" class=\"dataframe\">\n",
              "  <thead>\n",
              "    <tr style=\"text-align: right;\">\n",
              "      <th></th>\n",
              "      <th>Pregnancies</th>\n",
              "      <th>Glucose</th>\n",
              "      <th>BloodPressure</th>\n",
              "      <th>SkinThickness</th>\n",
              "      <th>Insulin</th>\n",
              "      <th>BMI</th>\n",
              "      <th>DiabetesPedigreeFunction</th>\n",
              "      <th>Age</th>\n",
              "      <th>Outcome</th>\n",
              "    </tr>\n",
              "  </thead>\n",
              "  <tbody>\n",
              "    <tr>\n",
              "      <th>0</th>\n",
              "      <td>6</td>\n",
              "      <td>148</td>\n",
              "      <td>72</td>\n",
              "      <td>35</td>\n",
              "      <td>0</td>\n",
              "      <td>33.6</td>\n",
              "      <td>0.627</td>\n",
              "      <td>50</td>\n",
              "      <td>1</td>\n",
              "    </tr>\n",
              "    <tr>\n",
              "      <th>1</th>\n",
              "      <td>1</td>\n",
              "      <td>85</td>\n",
              "      <td>66</td>\n",
              "      <td>29</td>\n",
              "      <td>0</td>\n",
              "      <td>26.6</td>\n",
              "      <td>0.351</td>\n",
              "      <td>31</td>\n",
              "      <td>0</td>\n",
              "    </tr>\n",
              "    <tr>\n",
              "      <th>2</th>\n",
              "      <td>8</td>\n",
              "      <td>183</td>\n",
              "      <td>64</td>\n",
              "      <td>0</td>\n",
              "      <td>0</td>\n",
              "      <td>23.3</td>\n",
              "      <td>0.672</td>\n",
              "      <td>32</td>\n",
              "      <td>1</td>\n",
              "    </tr>\n",
              "    <tr>\n",
              "      <th>3</th>\n",
              "      <td>1</td>\n",
              "      <td>89</td>\n",
              "      <td>66</td>\n",
              "      <td>23</td>\n",
              "      <td>94</td>\n",
              "      <td>28.1</td>\n",
              "      <td>0.167</td>\n",
              "      <td>21</td>\n",
              "      <td>0</td>\n",
              "    </tr>\n",
              "    <tr>\n",
              "      <th>4</th>\n",
              "      <td>0</td>\n",
              "      <td>137</td>\n",
              "      <td>40</td>\n",
              "      <td>35</td>\n",
              "      <td>168</td>\n",
              "      <td>43.1</td>\n",
              "      <td>2.288</td>\n",
              "      <td>33</td>\n",
              "      <td>1</td>\n",
              "    </tr>\n",
              "    <tr>\n",
              "      <th>...</th>\n",
              "      <td>...</td>\n",
              "      <td>...</td>\n",
              "      <td>...</td>\n",
              "      <td>...</td>\n",
              "      <td>...</td>\n",
              "      <td>...</td>\n",
              "      <td>...</td>\n",
              "      <td>...</td>\n",
              "      <td>...</td>\n",
              "    </tr>\n",
              "    <tr>\n",
              "      <th>763</th>\n",
              "      <td>10</td>\n",
              "      <td>101</td>\n",
              "      <td>76</td>\n",
              "      <td>48</td>\n",
              "      <td>180</td>\n",
              "      <td>32.9</td>\n",
              "      <td>0.171</td>\n",
              "      <td>63</td>\n",
              "      <td>0</td>\n",
              "    </tr>\n",
              "    <tr>\n",
              "      <th>764</th>\n",
              "      <td>2</td>\n",
              "      <td>122</td>\n",
              "      <td>70</td>\n",
              "      <td>27</td>\n",
              "      <td>0</td>\n",
              "      <td>36.8</td>\n",
              "      <td>0.340</td>\n",
              "      <td>27</td>\n",
              "      <td>0</td>\n",
              "    </tr>\n",
              "    <tr>\n",
              "      <th>765</th>\n",
              "      <td>5</td>\n",
              "      <td>121</td>\n",
              "      <td>72</td>\n",
              "      <td>23</td>\n",
              "      <td>112</td>\n",
              "      <td>26.2</td>\n",
              "      <td>0.245</td>\n",
              "      <td>30</td>\n",
              "      <td>0</td>\n",
              "    </tr>\n",
              "    <tr>\n",
              "      <th>766</th>\n",
              "      <td>1</td>\n",
              "      <td>126</td>\n",
              "      <td>60</td>\n",
              "      <td>0</td>\n",
              "      <td>0</td>\n",
              "      <td>30.1</td>\n",
              "      <td>0.349</td>\n",
              "      <td>47</td>\n",
              "      <td>1</td>\n",
              "    </tr>\n",
              "    <tr>\n",
              "      <th>767</th>\n",
              "      <td>1</td>\n",
              "      <td>93</td>\n",
              "      <td>70</td>\n",
              "      <td>31</td>\n",
              "      <td>0</td>\n",
              "      <td>30.4</td>\n",
              "      <td>0.315</td>\n",
              "      <td>23</td>\n",
              "      <td>0</td>\n",
              "    </tr>\n",
              "  </tbody>\n",
              "</table>\n",
              "<p>768 rows × 9 columns</p>\n",
              "</div>\n",
              "      <button class=\"colab-df-convert\" onclick=\"convertToInteractive('df-a72d4b9c-c5e9-416a-b74f-aa366fad28cc')\"\n",
              "              title=\"Convert this dataframe to an interactive table.\"\n",
              "              style=\"display:none;\">\n",
              "        \n",
              "  <svg xmlns=\"http://www.w3.org/2000/svg\" height=\"24px\"viewBox=\"0 0 24 24\"\n",
              "       width=\"24px\">\n",
              "    <path d=\"M0 0h24v24H0V0z\" fill=\"none\"/>\n",
              "    <path d=\"M18.56 5.44l.94 2.06.94-2.06 2.06-.94-2.06-.94-.94-2.06-.94 2.06-2.06.94zm-11 1L8.5 8.5l.94-2.06 2.06-.94-2.06-.94L8.5 2.5l-.94 2.06-2.06.94zm10 10l.94 2.06.94-2.06 2.06-.94-2.06-.94-.94-2.06-.94 2.06-2.06.94z\"/><path d=\"M17.41 7.96l-1.37-1.37c-.4-.4-.92-.59-1.43-.59-.52 0-1.04.2-1.43.59L10.3 9.45l-7.72 7.72c-.78.78-.78 2.05 0 2.83L4 21.41c.39.39.9.59 1.41.59.51 0 1.02-.2 1.41-.59l7.78-7.78 2.81-2.81c.8-.78.8-2.07 0-2.86zM5.41 20L4 18.59l7.72-7.72 1.47 1.35L5.41 20z\"/>\n",
              "  </svg>\n",
              "      </button>\n",
              "      \n",
              "  <style>\n",
              "    .colab-df-container {\n",
              "      display:flex;\n",
              "      flex-wrap:wrap;\n",
              "      gap: 12px;\n",
              "    }\n",
              "\n",
              "    .colab-df-convert {\n",
              "      background-color: #E8F0FE;\n",
              "      border: none;\n",
              "      border-radius: 50%;\n",
              "      cursor: pointer;\n",
              "      display: none;\n",
              "      fill: #1967D2;\n",
              "      height: 32px;\n",
              "      padding: 0 0 0 0;\n",
              "      width: 32px;\n",
              "    }\n",
              "\n",
              "    .colab-df-convert:hover {\n",
              "      background-color: #E2EBFA;\n",
              "      box-shadow: 0px 1px 2px rgba(60, 64, 67, 0.3), 0px 1px 3px 1px rgba(60, 64, 67, 0.15);\n",
              "      fill: #174EA6;\n",
              "    }\n",
              "\n",
              "    [theme=dark] .colab-df-convert {\n",
              "      background-color: #3B4455;\n",
              "      fill: #D2E3FC;\n",
              "    }\n",
              "\n",
              "    [theme=dark] .colab-df-convert:hover {\n",
              "      background-color: #434B5C;\n",
              "      box-shadow: 0px 1px 3px 1px rgba(0, 0, 0, 0.15);\n",
              "      filter: drop-shadow(0px 1px 2px rgba(0, 0, 0, 0.3));\n",
              "      fill: #FFFFFF;\n",
              "    }\n",
              "  </style>\n",
              "\n",
              "      <script>\n",
              "        const buttonEl =\n",
              "          document.querySelector('#df-a72d4b9c-c5e9-416a-b74f-aa366fad28cc button.colab-df-convert');\n",
              "        buttonEl.style.display =\n",
              "          google.colab.kernel.accessAllowed ? 'block' : 'none';\n",
              "\n",
              "        async function convertToInteractive(key) {\n",
              "          const element = document.querySelector('#df-a72d4b9c-c5e9-416a-b74f-aa366fad28cc');\n",
              "          const dataTable =\n",
              "            await google.colab.kernel.invokeFunction('convertToInteractive',\n",
              "                                                     [key], {});\n",
              "          if (!dataTable) return;\n",
              "\n",
              "          const docLinkHtml = 'Like what you see? Visit the ' +\n",
              "            '<a target=\"_blank\" href=https://colab.research.google.com/notebooks/data_table.ipynb>data table notebook</a>'\n",
              "            + ' to learn more about interactive tables.';\n",
              "          element.innerHTML = '';\n",
              "          dataTable['output_type'] = 'display_data';\n",
              "          await google.colab.output.renderOutput(dataTable, element);\n",
              "          const docLink = document.createElement('div');\n",
              "          docLink.innerHTML = docLinkHtml;\n",
              "          element.appendChild(docLink);\n",
              "        }\n",
              "      </script>\n",
              "    </div>\n",
              "  </div>\n",
              "  "
            ]
          },
          "metadata": {},
          "execution_count": 4
        }
      ]
    },
    {
      "cell_type": "code",
      "source": [
        "df.isna().sum()"
      ],
      "metadata": {
        "colab": {
          "base_uri": "https://localhost:8080/"
        },
        "id": "qBg46bvYii1l",
        "outputId": "88dadea2-ffd6-4b70-d4c1-a282fefe70a0"
      },
      "execution_count": 5,
      "outputs": [
        {
          "output_type": "execute_result",
          "data": {
            "text/plain": [
              "Pregnancies                 0\n",
              "Glucose                     0\n",
              "BloodPressure               0\n",
              "SkinThickness               0\n",
              "Insulin                     0\n",
              "BMI                         0\n",
              "DiabetesPedigreeFunction    0\n",
              "Age                         0\n",
              "Outcome                     0\n",
              "dtype: int64"
            ]
          },
          "metadata": {},
          "execution_count": 5
        }
      ]
    },
    {
      "cell_type": "markdown",
      "source": [
        "# kNN Implementation\n"
      ],
      "metadata": {
        "id": "h51_2OyVft0D"
      }
    },
    {
      "cell_type": "markdown",
      "source": [
        "## Train-test Split"
      ],
      "metadata": {
        "id": "4OvVR5TNgHz8"
      }
    },
    {
      "cell_type": "code",
      "source": [
        "X = df.iloc[:, :-1]\n",
        "y = df.iloc[:, -1].values\n",
        "\n",
        "X = X.to_numpy()"
      ],
      "metadata": {
        "id": "cWAK1hlTOlfc"
      },
      "execution_count": 6,
      "outputs": []
    },
    {
      "cell_type": "markdown",
      "source": [
        "### Data Spliting"
      ],
      "metadata": {
        "id": "YHhTz4ZbgUdN"
      }
    },
    {
      "cell_type": "code",
      "source": [
        "X_train, X_test, y_train, y_test = train_test_split(X, y, random_state = 0)"
      ],
      "metadata": {
        "id": "R_70n3IqgSpw"
      },
      "execution_count": 7,
      "outputs": []
    },
    {
      "cell_type": "markdown",
      "source": [
        "### Data preprocessing"
      ],
      "metadata": {
        "id": "cld4cEGogYBB"
      }
    },
    {
      "cell_type": "code",
      "source": [
        "scaler = StandardScaler()\n",
        "X_train_sc = scaler.fit_transform(X_train)\n",
        "print(X_train_sc)"
      ],
      "metadata": {
        "id": "mG-3-cm9gbuL",
        "colab": {
          "base_uri": "https://localhost:8080/"
        },
        "outputId": "1a29a123-4913-4199-bbc9-cebe2c9576d5"
      },
      "execution_count": 8,
      "outputs": [
        {
          "output_type": "stream",
          "name": "stdout",
          "text": [
            "[[ 1.50755225 -1.01521454 -0.40451932 ... -1.22070104 -0.98325882\n",
            "  -0.04863985]\n",
            " [-0.82986389 -0.09964691 -0.61509602 ...  0.13719053 -0.62493647\n",
            "  -0.88246592]\n",
            " [-1.12204091 -0.95207195  0.54307587 ...  0.0240329   0.39884168\n",
            "  -0.5489355 ]\n",
            " ...\n",
            " [ 0.04666716 -0.85735805 -0.24658679 ... -0.9440935  -0.96519215\n",
            "  -1.04923114]\n",
            " [ 2.09190629 -1.14149973  0.2272108  ... -0.26514771 -0.5075031\n",
            "   0.11812536]\n",
            " [ 0.33884418  0.46863645  0.64836422 ... -4.04964181  0.51627505\n",
            "   2.953134  ]]\n"
          ]
        }
      ]
    },
    {
      "cell_type": "markdown",
      "source": [
        "### Validation without StandardScaler"
      ],
      "metadata": {
        "id": "PNbW0Puvmpk1"
      }
    },
    {
      "cell_type": "markdown",
      "source": [
        "#### Training"
      ],
      "metadata": {
        "id": "9KcJPjRXgdM1"
      }
    },
    {
      "cell_type": "code",
      "source": [
        "# model = KNeighborsClassifier(3)\n",
        "# model.fit(X_train, y_train)\n",
        "model = SVC(kernel = 'linear')\n",
        "model.fit(X_train, y_train)"
      ],
      "metadata": {
        "id": "uvk9_2gkg_KW",
        "colab": {
          "base_uri": "https://localhost:8080/"
        },
        "outputId": "3523fa74-298d-43cb-b15e-b0cfe5ad1d63"
      },
      "execution_count": 9,
      "outputs": [
        {
          "output_type": "execute_result",
          "data": {
            "text/plain": [
              "SVC(kernel='linear')"
            ]
          },
          "metadata": {},
          "execution_count": 9
        }
      ]
    },
    {
      "cell_type": "markdown",
      "source": [
        "#### Testing"
      ],
      "metadata": {
        "id": "FlDQytObhXvV"
      }
    },
    {
      "cell_type": "code",
      "source": [
        "y_pred = model.predict(X_test)"
      ],
      "metadata": {
        "id": "dgVdwPBElJXp"
      },
      "execution_count": 10,
      "outputs": []
    },
    {
      "cell_type": "code",
      "source": [
        "from sklearn.metrics import f1_score, accuracy_score, log_loss\n",
        "print(\"F1 Score:\", f1_score(y_test, y_pred))\n",
        "print(\"Accuracy Score:\", accuracy_score(y_test, y_pred))\n",
        "print(\"Log loss:\", log_loss(y_test, y_pred))"
      ],
      "metadata": {
        "colab": {
          "base_uri": "https://localhost:8080/"
        },
        "id": "UcsLu5p-mTg1",
        "outputId": "0fa09120-9d1d-4f31-cc04-6fd800d78f95"
      },
      "execution_count": 11,
      "outputs": [
        {
          "output_type": "stream",
          "name": "stdout",
          "text": [
            "F1 Score: 0.6607142857142857\n",
            "Accuracy Score: 0.8020833333333334\n",
            "Log loss: 6.835853634235408\n"
          ]
        }
      ]
    },
    {
      "cell_type": "markdown",
      "source": [
        "### Validation with StandardScaler"
      ],
      "metadata": {
        "id": "PcAeEPrwm4C6"
      }
    },
    {
      "cell_type": "markdown",
      "source": [
        "#### Training"
      ],
      "metadata": {
        "id": "4Ufsus49m7op"
      }
    },
    {
      "cell_type": "code",
      "source": [
        "# model = KNeighborsClassifier(3)\n",
        "# model.fit(X_train, y_train)\n",
        "model = SVC(kernel = 'linear')\n",
        "model.fit(X_train_sc, y_train)"
      ],
      "metadata": {
        "colab": {
          "base_uri": "https://localhost:8080/"
        },
        "id": "Hz_dIFTenBFT",
        "outputId": "111498d9-50bd-4350-b706-4d827bfd60bf"
      },
      "execution_count": 12,
      "outputs": [
        {
          "output_type": "execute_result",
          "data": {
            "text/plain": [
              "SVC(kernel='linear')"
            ]
          },
          "metadata": {},
          "execution_count": 12
        }
      ]
    },
    {
      "cell_type": "markdown",
      "source": [
        "#### Testing"
      ],
      "metadata": {
        "id": "R15TzdfVm-kr"
      }
    },
    {
      "cell_type": "code",
      "source": [
        "X_test_sc = scaler.fit_transform(X_test)\n",
        "y_pred = model.predict(X_test_sc)"
      ],
      "metadata": {
        "id": "oPCRuttHnBem"
      },
      "execution_count": 13,
      "outputs": []
    },
    {
      "cell_type": "code",
      "source": [
        "from sklearn.metrics import f1_score, accuracy_score, log_loss\n",
        "print(\"F1 Score:\", f1_score(y_test, y_pred))\n",
        "print(\"Accuracy Score:\", accuracy_score(y_test, y_pred))\n",
        "print(\"Log loss:\", log_loss(y_test, y_pred))"
      ],
      "metadata": {
        "colab": {
          "base_uri": "https://localhost:8080/"
        },
        "id": "NP1qvc19ncl5",
        "outputId": "2f61c891-1d45-4bc1-c846-4c3372af4584"
      },
      "execution_count": 14,
      "outputs": [
        {
          "output_type": "stream",
          "name": "stdout",
          "text": [
            "F1 Score: 0.672566371681416\n",
            "Accuracy Score: 0.8072916666666666\n",
            "Log loss: 6.655964173845248\n"
          ]
        }
      ]
    },
    {
      "cell_type": "markdown",
      "source": [
        "## KFold Crossvalidation"
      ],
      "metadata": {
        "id": "yZuB_O6wgLJv"
      }
    },
    {
      "cell_type": "markdown",
      "source": [
        "In Kfold crossvalidation, we split the dataset into 4 subsets. Each time we pick up 1 subset/fold and use it as a testing subset. The data processing, training and testing are then performed similarly to how we do it in Train-test split."
      ],
      "metadata": {
        "id": "nc6V16HolEoN"
      }
    },
    {
      "cell_type": "code",
      "source": [
        "type(X)"
      ],
      "metadata": {
        "colab": {
          "base_uri": "https://localhost:8080/"
        },
        "id": "7G8erpBpzVWc",
        "outputId": "e53f2dd2-5213-45bf-ef68-cf5530a6c566"
      },
      "execution_count": 15,
      "outputs": [
        {
          "output_type": "execute_result",
          "data": {
            "text/plain": [
              "numpy.ndarray"
            ]
          },
          "metadata": {},
          "execution_count": 15
        }
      ]
    },
    {
      "cell_type": "code",
      "source": [
        "\n",
        "kf = KFold(n_splits = 4, random_state = 0, shuffle=True)\n",
        "\n",
        "f1 = []\n",
        "f1_sc = []\n",
        "\n",
        "accuracy = []\n",
        "accuracy_sc = []\n",
        "\n",
        "ll = []\n",
        "ll_sc = []\n",
        "\n",
        "for train_index, test_index in kf.split(X):\n",
        "  X_train, X_test = X[train_index], X[test_index]\n",
        "  y_train, y_test = y[train_index], y[test_index]\n",
        "  # Data preprocessing\n",
        "  scaler = StandardScaler()\n",
        "  scaler.fit(X_train)\n",
        "\n",
        "  # NO Standard Scaler\n",
        "  model = SVC(kernel = 'linear', probability = True)\n",
        "  model.fit(X_train, y_train)\n",
        "\n",
        "  y_pred = model.predict(X_test)\n",
        "  y_pred_proba = model.predict_proba(X_test)\n",
        "\n",
        "  f1.append(f1_score(y_test, y_pred))\n",
        "  accuracy.append(accuracy_score(y_test, y_pred))\n",
        "  ll.append(log_loss(y_test, y_pred_proba))\n",
        "\n",
        "  # With Standard Scaler \n",
        "\n",
        "  X_train_sc = scaler.transform(X_train)\n",
        "  model_sc = SVC(kernel = 'linear', probability = True)\n",
        "  model_sc.fit(X_train_sc, y_train)\n",
        "\n",
        "  X_test_sc = scaler.transform(X_test)\n",
        "  y_pred_sc = model_sc.predict(X_test_sc)\n",
        "  y_pred_sc_proba = model_sc.predict_proba(X_test_sc)\n",
        "\n",
        "  f1_sc.append(f1_score(y_test, y_pred_sc))\n",
        "  accuracy_sc.append(accuracy_score(y_test, y_pred_sc))\n",
        "  ll_sc.append(log_loss(y_test, y_pred_sc_proba))\n",
        "\n",
        "f1 = pd.DataFrame(f1)\n",
        "f1_sc = pd.DataFrame(f1_sc)\n",
        "\n",
        "accuracy = pd.DataFrame(accuracy)\n",
        "accuracy_sc = pd.DataFrame(accuracy_sc)\n",
        "\n",
        "ll = pd.DataFrame(ll)\n",
        "ll_sc = pd.DataFrame(ll_sc)\n",
        "\n",
        "\n",
        "print(\"Without Standard Scaler:\")\n",
        "print(\"F1 Score:\", f1.mean()[0])\n",
        "print(\"Accuracy Score:\", accuracy.mean()[0])\n",
        "print(\"Log loss:\", ll.mean()[0])\n",
        "\n",
        "print(\"With Standard Scaler:\")\n",
        "print(\"F1 Score:\", f1_sc.mean()[0])\n",
        "print(\"Accuracy Score:\", accuracy_sc.mean()[0])\n",
        "print(\"Log loss:\", ll_sc.mean()[0])"
      ],
      "metadata": {
        "id": "Ba5X2IhThjoJ",
        "colab": {
          "base_uri": "https://localhost:8080/"
        },
        "outputId": "6a54694d-9850-4d46-9009-0d78b03f29d5"
      },
      "execution_count": 16,
      "outputs": [
        {
          "output_type": "stream",
          "name": "stdout",
          "text": [
            "Without Standard Scaler:\n",
            "F1 Score: 0.6309110858083691\n",
            "Accuracy Score: 0.7682291666666667\n",
            "Log loss: 0.4816277178578242\n",
            "With Standard Scaler:\n",
            "F1 Score: 0.6334260725150556\n",
            "Accuracy Score: 0.7708333333333333\n",
            "Log loss: 0.48200989614255785\n"
          ]
        }
      ]
    },
    {
      "cell_type": "markdown",
      "source": [
        "### Data preprocessing"
      ],
      "metadata": {
        "id": "RTlmFCepPk9i"
      }
    },
    {
      "cell_type": "code",
      "source": [
        "scaler = StandardScaler()\n",
        "X_train_sc = scaler.fit_transform(X_train)\n",
        "print(X_train_sc)"
      ],
      "metadata": {
        "colab": {
          "base_uri": "https://localhost:8080/"
        },
        "outputId": "746caad8-118c-4da9-b2ff-88bc2d70d6f2",
        "id": "56d5aQvqPk9n"
      },
      "execution_count": null,
      "outputs": [
        {
          "output_type": "stream",
          "name": "stdout",
          "text": [
            "[[ 0.63624625  0.84320386  0.18048995 ...  0.2056088   0.50150893\n",
            "   1.45200457]\n",
            " [-0.84507081 -1.15198273 -0.12216568 ... -0.70280089 -0.37829557\n",
            "  -0.20121412]\n",
            " [ 1.22877307  1.95164085 -0.22305089 ... -1.13105117  0.64495531\n",
            "  -0.11420261]\n",
            " ...\n",
            " [ 0.33998284 -0.01187611  0.18048995 ... -0.75471001 -0.7161915\n",
            "  -0.28822563]\n",
            " [-0.84507081  0.14647203 -0.42482131 ... -0.24859604 -0.38467096\n",
            "   1.19097004]\n",
            " [-0.84507081 -0.89862571  0.07960474 ... -0.2096642  -0.49305268\n",
            "  -0.89730619]]\n"
          ]
        }
      ]
    },
    {
      "cell_type": "markdown",
      "source": [
        "### Validation without StandardScaler"
      ],
      "metadata": {
        "id": "bcDwgNKMPk9o"
      }
    },
    {
      "cell_type": "markdown",
      "source": [
        "#### Training"
      ],
      "metadata": {
        "id": "WklffcnePk9o"
      }
    },
    {
      "cell_type": "code",
      "source": [
        "# model = KNeighborsClassifier(3)\n",
        "# model.fit(X_train, y_train)\n",
        "model = SVC(kernel = 'linear')\n",
        "model.fit(X_train, y_train)"
      ],
      "metadata": {
        "colab": {
          "base_uri": "https://localhost:8080/"
        },
        "outputId": "d300d971-63ab-4313-f549-11c3f48e3429",
        "id": "Q8Kc13NrPk9o"
      },
      "execution_count": null,
      "outputs": [
        {
          "output_type": "execute_result",
          "data": {
            "text/plain": [
              "SVC(kernel='linear')"
            ]
          },
          "metadata": {},
          "execution_count": 18
        }
      ]
    },
    {
      "cell_type": "markdown",
      "source": [
        "#### Testing"
      ],
      "metadata": {
        "id": "FYJDV4x7Pk9o"
      }
    },
    {
      "cell_type": "code",
      "source": [
        "y_pred = model.predict(X_test)"
      ],
      "metadata": {
        "id": "WgcuUQD5Pk9o"
      },
      "execution_count": null,
      "outputs": []
    },
    {
      "cell_type": "code",
      "source": [
        "from sklearn.metrics import f1_score, accuracy_score, log_loss\n",
        "print(\"F1 Score:\", f1_score(y_test, y_pred))\n",
        "print(\"Accuracy Score:\", accuracy_score(y_test, y_pred))\n",
        "print(\"Log loss:\", log_loss(y_test, y_pred))"
      ],
      "metadata": {
        "colab": {
          "base_uri": "https://localhost:8080/"
        },
        "outputId": "9511794f-40c7-40a0-cfd2-d1bb8bcd579f",
        "id": "BVY-WmrlPk9o"
      },
      "execution_count": null,
      "outputs": [
        {
          "output_type": "stream",
          "name": "stdout",
          "text": [
            "F1 Score: 0.6050420168067226\n",
            "Accuracy Score: 0.7552083333333334\n",
            "Log loss: 8.454879600596593\n"
          ]
        }
      ]
    },
    {
      "cell_type": "markdown",
      "source": [
        "### Validation with StandardScaler"
      ],
      "metadata": {
        "id": "Lo4jGM5IPk9o"
      }
    },
    {
      "cell_type": "markdown",
      "source": [
        "#### Training"
      ],
      "metadata": {
        "id": "ktn_0_aoPk9o"
      }
    },
    {
      "cell_type": "code",
      "source": [
        "# model = KNeighborsClassifier(3)\n",
        "# model.fit(X_train, y_train)\n",
        "model = SVC(kernel = 'linear')\n",
        "model.fit(X_train_sc, y_train)"
      ],
      "metadata": {
        "colab": {
          "base_uri": "https://localhost:8080/"
        },
        "outputId": "1a2dfea2-cc4d-4264-eabf-214e236ef837",
        "id": "lv3lFti8Pk9o"
      },
      "execution_count": null,
      "outputs": [
        {
          "output_type": "execute_result",
          "data": {
            "text/plain": [
              "SVC(kernel='linear')"
            ]
          },
          "metadata": {},
          "execution_count": 21
        }
      ]
    },
    {
      "cell_type": "markdown",
      "source": [
        "#### Testing"
      ],
      "metadata": {
        "id": "y5GEHQFBPk9o"
      }
    },
    {
      "cell_type": "code",
      "source": [
        "X_test_sc = scaler.fit_transform(X_test)\n",
        "y_pred = model.predict(X_test_sc)"
      ],
      "metadata": {
        "id": "No1C-ehePk9p"
      },
      "execution_count": null,
      "outputs": []
    },
    {
      "cell_type": "code",
      "source": [
        "\n",
        "print(\"F1 Score:\", f1_score(y_test, y_pred))\n",
        "print(\"Accuracy Score:\", accuracy_score(y_test, y_pred))\n",
        "print(\"Log loss:\", log_loss(y_test, y_pred))"
      ],
      "metadata": {
        "colab": {
          "base_uri": "https://localhost:8080/"
        },
        "outputId": "67dbeb07-fce7-44b2-8425-7e710da24a2a",
        "id": "6cl3uwpQPk9p"
      },
      "execution_count": null,
      "outputs": [
        {
          "output_type": "stream",
          "name": "stdout",
          "text": [
            "F1 Score: 0.6166666666666667\n",
            "Accuracy Score: 0.7604166666666666\n",
            "Log loss: 8.274990140206432\n"
          ]
        }
      ]
    }
  ]
}